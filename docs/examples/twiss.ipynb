{
 "cells": [
  {
   "cell_type": "markdown",
   "metadata": {},
   "source": [
    "### Compute and plot the Twiss parameter of a fodo lattice\n",
    "\n",
    "Create a fodo based ring"
   ]
  },
  {
   "cell_type": "code",
   "execution_count": null,
   "metadata": {},
   "outputs": [],
   "source": [
    "import apace as ap\n",
    "\n",
    "D1 = ap.Drift(\"D1\", length=0.55)\n",
    "d1 = ap.Drift(\"D1\", length=0.55)\n",
    "b1 = ap.Dipole(\"B1\", length=1.5, angle=0.392701, e1=0.1963505, e2=0.1963505)\n",
    "q1 = ap.Quadrupole(\"Q1\", length=0.2, k1=1.2)\n",
    "q2 = ap.Quadrupole(\"Q2\", length=0.4, k1=-1.2)\n",
    "fodo_cell = ap.Lattice(\"FODO_CELL\", [q1, d1, b1, d1, q2, d1, b1, d1, q1])\n",
    "fodo_ring = ap.Lattice(\"FODO_RING\", [fodo_cell] * 8)"
   ]
  },
  {
   "cell_type": "markdown",
   "metadata": {},
   "source": [
    "Some basic info on the lattice"
   ]
  },
  {
   "cell_type": "code",
   "execution_count": null,
   "metadata": {},
   "outputs": [],
   "source": [
    "print(\n",
    "    f\"Overview of {fodo_ring.name}\",\n",
    "    f\"Num of elements: {len(fodo_ring.arrangement)}\",\n",
    "    f\"Lattice Length : {fodo_ring.length}\",\n",
    "    f\"Cell Length    : {fodo_cell.length}\",\n",
    "    sep='\\n'\n",
    ")"
   ]
  },
  {
   "cell_type": "markdown",
   "metadata": {},
   "source": [
    "Compute Twiss Parameter"
   ]
  },
  {
   "cell_type": "code",
   "execution_count": null,
   "metadata": {},
   "outputs": [],
   "source": [
    "twiss = ap.Twiss(fodo_ring, start_idx=0)\n",
    "import numpy as np\n",
    "\n",
    "print(\n",
    "    f\"Twiss parameter of {fodo_ring.name}\",\n",
    "    f\"Stable in x-plane : {twiss.stable_x}\",\n",
    "    f\"Stable in y-plane : {twiss.stable_y}\",\n",
    "    f\"Horizontal tune   : {twiss.tune_x:.3f}\",\n",
    "    f\"Vertical tune     : {twiss.tune_y:.3f}\",\n",
    "    f\"Max beta x        : {np.max(twiss.beta_x):.3f}\",\n",
    "    f\"Max beta y        : {np.max(twiss.beta_y):.3f}\",\n",
    "    sep='\\n'\n",
    ")"
   ]
  },
  {
   "cell_type": "markdown",
   "metadata": {},
   "source": [
    "Use the builtin `plot_lattice` utility function to plot the Twiss parameter"
   ]
  },
  {
   "cell_type": "code",
   "execution_count": null,
   "metadata": {},
   "outputs": [],
   "source": [
    "from apace.plot import plot_lattice\n",
    "\n",
    "fig = plot_lattice(twiss, fodo_ring)\n",
    "fig.set_size_inches(16, 6)"
   ]
  }
 ],
 "metadata": {
  "kernelspec": {
   "display_name": "Python 3",
   "language": "python",
   "name": "python3"
  },
  "language_info": {
   "codemirror_mode": {
    "name": "ipython",
    "version": 3
   },
   "file_extension": ".py",
   "mimetype": "text/x-python",
   "name": "python",
   "nbconvert_exporter": "python",
   "pygments_lexer": "ipython3",
   "version": "3.7.4"
  }
 },
 "nbformat": 4,
 "nbformat_minor": 4
}
