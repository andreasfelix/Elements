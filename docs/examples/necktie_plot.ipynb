{
 "cells": [
  {
   "cell_type": "markdown",
   "metadata": {},
   "source": [
    "\n",
    "# Create a necktie plot\n",
    "\n",
    "\n",
    "This example notebook demonstrates as a basic example how sphinx-nbexamples\n",
    "works.\n"
   ]
  },
  {
   "cell_type": "code",
   "execution_count": null,
   "metadata": {},
   "outputs": [],
   "source": [
    "import numpy as np\n",
    "import matplotlib as mpl\n",
    "import matplotlib.pyplot as plt\n",
    "import apace as ap\n",
    "\n",
    "D1 = ap.Drift(\"D1\", length=0.55)\n",
    "d1 = ap.Drift(\"D1\", length=0.55)\n",
    "b1 = ap.Drift(\"B1\", length=1.5)\n",
    "b1 = ap.Dipole(\"B1\", length=1.5, angle=0.392701, e1=0.1963505, e2=0.1963505)\n",
    "q1 = ap.Quadrupole(\"Q1\", length=0.2, k1=1.2)\n",
    "q2 = ap.Quadrupole(\"Q2\", length=0.4, k1=-1.2)\n",
    "fodo_cell = ap.Lattice(\"FODO_CELL\", [q1, d1, b1, d1, q2, d1, b1, d1, q1])\n",
    "fodo_ring = ap.Lattice(\"FODO_RING\", [fodo_cell] * 8)"
   ]
  },
  {
   "cell_type": "code",
   "execution_count": null,
   "metadata": {},
   "outputs": [],
   "source": [
    "n_steps = 100\n",
    "k1_start = 0\n",
    "k1_end = 2\n",
    "\n",
    "q1_values = np.linspace(k1_start, k1_end, n_steps)\n",
    "q2_values = np.linspace(k1_start, -k1_end, n_steps)\n",
    "stable = np.empty((n_steps, n_steps), dtype=bool)\n",
    "\n",
    "twiss = ap.Twiss(fodo_ring)\n",
    "\n",
    "for i, q1.k1 in enumerate(q1_values):\n",
    "    for j, q2.k1  in enumerate(q2_values):\n",
    "        stable[i, j] = twiss.stable"
   ]
  },
  {
   "cell_type": "code",
   "execution_count": null,
   "metadata": {},
   "outputs": [],
   "source": [
    "x, y = np.meshgrid(q1_values, -q2_values)\n",
    "CS = plt.contour(x, y, stable)\n",
    "plt.xlabel(f'{q1.name} k1 / m$^{{-1}}$')\n",
    "plt.ylabel(f'{q2.name} -k1 / m$^{{-1}}$')\n",
    "plt.show()"
   ]
  },
  {
   "cell_type": "code",
   "execution_count": null,
   "metadata": {},
   "outputs": [],
   "source": [
    "# TODO change Bend to Drift -> changes necktieplot to center"
   ]
  },
  {
   "cell_type": "code",
   "execution_count": null,
   "metadata": {},
   "outputs": [],
   "source": []
  }
 ],
 "metadata": {
  "kernelspec": {
   "display_name": "Python 3",
   "language": "python",
   "name": "python3"
  },
  "language_info": {
   "codemirror_mode": {
    "name": "ipython",
    "version": 3
   },
   "file_extension": ".py",
   "mimetype": "text/x-python",
   "name": "python",
   "nbconvert_exporter": "python",
   "pygments_lexer": "ipython3",
   "version": "3.7.4"
  }
 },
 "nbformat": 4,
 "nbformat_minor": 4
}
